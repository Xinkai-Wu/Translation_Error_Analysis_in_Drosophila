{
 "cells": [
  {
   "cell_type": "code",
   "execution_count": 1,
   "metadata": {},
   "outputs": [
    {
     "name": "stderr",
     "output_type": "stream",
     "text": [
      "\n",
      "Bad key \"text.kerning_factor\" on line 4 in\n",
      "/lustre/user/lulab/doushq/wuxk/software/anaconda3/lib/python3.6/site-packages/matplotlib/mpl-data/stylelib/_classic_test_patch.mplstyle.\n",
      "You probably need to get an updated matplotlibrc file from\n",
      "http://github.com/matplotlib/matplotlib/blob/master/matplotlibrc.template\n",
      "or from the matplotlib source distribution\n"
     ]
    }
   ],
   "source": [
    "import pandas as pd\n",
    "import numpy as np\n",
    "import math\n",
    "import pickle\n",
    "import os\n",
    "import re\n",
    "from Bio import Seq\n",
    "from scipy import stats\n",
    "import matplotlib.pyplot as plt\n",
    "import seaborn as sns\n",
    "%matplotlib inline\n",
    "from scipy import stats\n",
    "import matplotlib as mpl\n",
    "import statsmodels.formula.api as smf\n",
    "mpl.rcParams['pdf.fonttype'] = 42\n",
    "import warnings\n",
    "warnings.filterwarnings(\"ignore\")"
   ]
  },
  {
   "cell_type": "code",
   "execution_count": 2,
   "metadata": {},
   "outputs": [
    {
     "data": {
      "text/html": [
       "<div>\n",
       "<style scoped>\n",
       "    .dataframe tbody tr th:only-of-type {\n",
       "        vertical-align: middle;\n",
       "    }\n",
       "\n",
       "    .dataframe tbody tr th {\n",
       "        vertical-align: top;\n",
       "    }\n",
       "\n",
       "    .dataframe thead th {\n",
       "        text-align: right;\n",
       "    }\n",
       "</style>\n",
       "<table border=\"1\" class=\"dataframe\">\n",
       "  <thead>\n",
       "    <tr style=\"text-align: right;\">\n",
       "      <th></th>\n",
       "      <th>codon</th>\n",
       "      <th>rscu</th>\n",
       "      <th>category</th>\n",
       "    </tr>\n",
       "  </thead>\n",
       "  <tbody>\n",
       "    <tr>\n",
       "      <th>0</th>\n",
       "      <td>TGT</td>\n",
       "      <td>0.417587</td>\n",
       "      <td>nonoptimal</td>\n",
       "    </tr>\n",
       "    <tr>\n",
       "      <th>1</th>\n",
       "      <td>TGC</td>\n",
       "      <td>1.582413</td>\n",
       "      <td>optimal</td>\n",
       "    </tr>\n",
       "  </tbody>\n",
       "</table>\n",
       "</div>"
      ],
      "text/plain": [
       "  codon      rscu    category\n",
       "0   TGT  0.417587  nonoptimal\n",
       "1   TGC  1.582413     optimal"
      ]
     },
     "execution_count": 2,
     "metadata": {},
     "output_type": "execute_result"
    }
   ],
   "source": [
    "with open(\"../Data/fly_rscu.pkl\", \"rb\") as handle:\n",
    "    RSCU_dict = pickle.load(handle)\n",
    "    \n",
    "RSCU_df = pd.DataFrame([RSCU_dict]).T.reset_index()\n",
    "RSCU_df.columns = ['codon','rscu']\n",
    "RSCU_df['category'] = ['optimal' if x >= 1 else 'nonoptimal' for x in RSCU_df['rscu']]\n",
    "RSCU_df.head(2)"
   ]
  },
  {
   "cell_type": "code",
   "execution_count": 3,
   "metadata": {
    "collapsed": true
   },
   "outputs": [],
   "source": [
    "samplenames = ['em02h','em1224h','larva','femalebody','malehead','em26h',\n",
    "               'pupa','malebody','em612h','femalehead']"
   ]
  },
  {
   "cell_type": "code",
   "execution_count": 5,
   "metadata": {},
   "outputs": [
    {
     "data": {
      "text/plain": [
       "Text(0, 0.5, 'Density')"
      ]
     },
     "execution_count": 5,
     "metadata": {},
     "output_type": "execute_result"
    },
    {
     "data": {
      "image/png": "[encoded data removed]",
      "text/plain": [
       "<Figure size 288x144 with 1 Axes>"
      ]
     },
     "metadata": {},
     "output_type": "display_data"
    }
   ],
   "source": [
    "# take an example\n",
    "plt.figure(figsize=(4,2))\n",
    "samplename = samplenames[0]\n",
    "Occ_tmp_df = pd.read_csv(\"../Data/RiboMrnaCoverageInfoTotal_codonFiltered_fly_\"+samplename+\"_ribo_1.csv.gz\",sep=\"\\t\")\n",
    "Occ_tmp_sample = pd.merge(Occ_tmp_df,RSCU_df,on='codon')\n",
    "Occ_tmp_sample = Occ_tmp_sample[Occ_tmp_sample['norm_Asite'] > 0] # remove uncoveraged codons\n",
    "sns.distplot(np.log2(Occ_tmp_sample['norm_Asite']+1))\n",
    "plt.xlim(-0.5,4.1)\n",
    "plt.xlabel(\"Ribosome occupancy of codons\")\n",
    "plt.ylabel(\"Density\")"
   ]
  },
  {
   "cell_type": "code",
   "execution_count": 6,
   "metadata": {},
   "outputs": [
    {
     "data": {
      "text/html": [
       "<div>\n",
       "<style scoped>\n",
       "    .dataframe tbody tr th:only-of-type {\n",
       "        vertical-align: middle;\n",
       "    }\n",
       "\n",
       "    .dataframe tbody tr th {\n",
       "        vertical-align: top;\n",
       "    }\n",
       "\n",
       "    .dataframe thead th {\n",
       "        text-align: right;\n",
       "    }\n",
       "</style>\n",
       "<table border=\"1\" class=\"dataframe\">\n",
       "  <thead>\n",
       "    <tr style=\"text-align: right;\">\n",
       "      <th></th>\n",
       "      <th>chr</th>\n",
       "      <th>geneid</th>\n",
       "      <th>trid</th>\n",
       "      <th>RPKM</th>\n",
       "      <th>protein</th>\n",
       "      <th>codon_loci</th>\n",
       "      <th>codon</th>\n",
       "      <th>mrna_depth</th>\n",
       "      <th>A_site_occ</th>\n",
       "      <th>CDS_length</th>\n",
       "      <th>empty_sites</th>\n",
       "      <th>empty_ratio</th>\n",
       "      <th>mean_Asite</th>\n",
       "      <th>norm_Asite</th>\n",
       "      <th>rscu</th>\n",
       "      <th>category</th>\n",
       "      <th>log2norm_Asite</th>\n",
       "    </tr>\n",
       "  </thead>\n",
       "  <tbody>\n",
       "    <tr>\n",
       "      <th>2</th>\n",
       "      <td>chr2L</td>\n",
       "      <td>FBgn0000052</td>\n",
       "      <td>FBtr0079219</td>\n",
       "      <td>32.987841</td>\n",
       "      <td>A</td>\n",
       "      <td>77</td>\n",
       "      <td>GCC</td>\n",
       "      <td>2.459894</td>\n",
       "      <td>6.0</td>\n",
       "      <td>1355</td>\n",
       "      <td>425</td>\n",
       "      <td>0.313653</td>\n",
       "      <td>2.362069</td>\n",
       "      <td>2.540146</td>\n",
       "      <td>2.152484</td>\n",
       "      <td>optimal</td>\n",
       "      <td>1.823809</td>\n",
       "    </tr>\n",
       "    <tr>\n",
       "      <th>3</th>\n",
       "      <td>chr2L</td>\n",
       "      <td>FBgn0000052</td>\n",
       "      <td>FBtr0079219</td>\n",
       "      <td>32.987841</td>\n",
       "      <td>A</td>\n",
       "      <td>139</td>\n",
       "      <td>GCC</td>\n",
       "      <td>3.696510</td>\n",
       "      <td>1.0</td>\n",
       "      <td>1355</td>\n",
       "      <td>425</td>\n",
       "      <td>0.313653</td>\n",
       "      <td>2.362069</td>\n",
       "      <td>0.423358</td>\n",
       "      <td>2.152484</td>\n",
       "      <td>optimal</td>\n",
       "      <td>0.509298</td>\n",
       "    </tr>\n",
       "  </tbody>\n",
       "</table>\n",
       "</div>"
      ],
      "text/plain": [
       "     chr       geneid         trid       RPKM protein  codon_loci codon  \\\n",
       "2  chr2L  FBgn0000052  FBtr0079219  32.987841       A          77   GCC   \n",
       "3  chr2L  FBgn0000052  FBtr0079219  32.987841       A         139   GCC   \n",
       "\n",
       "   mrna_depth  A_site_occ  CDS_length  empty_sites  empty_ratio  mean_Asite  \\\n",
       "2    2.459894         6.0        1355          425     0.313653    2.362069   \n",
       "3    3.696510         1.0        1355          425     0.313653    2.362069   \n",
       "\n",
       "   norm_Asite      rscu category  log2norm_Asite  \n",
       "2    2.540146  2.152484  optimal        1.823809  \n",
       "3    0.423358  2.152484  optimal        0.509298  "
      ]
     },
     "execution_count": 6,
     "metadata": {},
     "output_type": "execute_result"
    }
   ],
   "source": [
    "Occ_tmp_sample['log2norm_Asite'] = np.log2(Occ_tmp_sample['norm_Asite']+1)\n",
    "Occ_tmp_sample.head(2)"
   ]
  },
  {
   "cell_type": "code",
   "execution_count": 7,
   "metadata": {},
   "outputs": [
    {
     "data": {
      "text/plain": [
       "MannwhitneyuResult(statistic=630571892315.5, pvalue=1.0373204817968352e-38)"
      ]
     },
     "execution_count": 7,
     "metadata": {},
     "output_type": "execute_result"
    }
   ],
   "source": [
    "stats.mannwhitneyu(Occ_tmp_sample[Occ_tmp_sample['category']=='optimal']['log2norm_Asite'],\n",
    "                   Occ_tmp_sample[Occ_tmp_sample['category']=='nonoptimal']['log2norm_Asite'])"
   ]
  },
  {
   "cell_type": "code",
   "execution_count": 8,
   "metadata": {},
   "outputs": [
    {
     "data": {
      "text/plain": [
       "<Figure size 288x144 with 0 Axes>"
      ]
     },
     "metadata": {},
     "output_type": "display_data"
    },
    {
     "data": {
      "image/png": "[encoded data removed]",
      "text/plain": [
       "<Figure size 308.375x216 with 1 Axes>"
      ]
     },
     "metadata": {},
     "output_type": "display_data"
    }
   ],
   "source": [
    "# ecdf plot\n",
    "plt.figure(figsize=(4,2))\n",
    "sns.displot(data=Occ_tmp_sample,x='log2norm_Asite',kind='ecdf',hue='category',height=3, aspect=1)\n",
    "plt.xlabel(\"Normalized ribosome occupancy\")\n",
    "plt.ylabel(\"Cumulative proportion\")\n",
    "plt.ylim(0.875,1.02)\n",
    "plt.xlim(1.6,3.52)\n",
    "plt.text(2.5,0.890,'P<2.2e-16')\n",
    "plt.tight_layout()"
   ]
  },
  {
   "cell_type": "markdown",
   "metadata": {},
   "source": [
    "#### Compare the codon usage in the fast and slow region"
   ]
  },
  {
   "cell_type": "code",
   "execution_count": 9,
   "metadata": {
    "collapsed": true
   },
   "outputs": [],
   "source": [
    "# save result from multiple samples\n",
    "Count_tmp = pd.DataFrame(columns = ['category','stall','nonstall','samplename','threshold'])\n",
    "fast_tmp = pd.DataFrame(columns = ['category','fast','nonfast','samplename'])\n",
    "\n",
    "for samplename in samplenames:\n",
    "    Occ_tmp_df = pd.read_csv(\"../Data/RiboMrnaCoverageInfoTotal_codonFiltered_fly_\"+samplename+\"_ribo_1.csv.gz\",sep=\"\\t\")\n",
    "    ### retain the highest 1% as the candidates stalling sites\n",
    "    Occ_tmp_sample = pd.merge(Occ_tmp_df,RSCU_df,on='codon')\n",
    "    Occ_tmp_sample = Occ_tmp_sample[Occ_tmp_sample['norm_Asite'] >0] # remove zero sites\n",
    "    threshold01 = np.quantile(Occ_tmp_sample['norm_Asite'],0.99)\n",
    "    threshold01_bottom = np.quantile(Occ_tmp_sample['norm_Asite'],0.01)\n",
    "    \n",
    "    Occ_tmp_sample_stall = Occ_tmp_sample[Occ_tmp_sample['norm_Asite'] > threshold01]\n",
    "    Occ_tmp_sample_nonstall = Occ_tmp_sample[Occ_tmp_sample['norm_Asite'] <= threshold01]\n",
    "    Count_df = pd.DataFrame([Occ_tmp_sample_stall.groupby(['category'])['protein'].count(),Occ_tmp_sample_nonstall.groupby(['category'])['protein'].count()]).T\n",
    "    Count_df.columns = ['stall','nonstall']\n",
    "    Count_df.reset_index(inplace=True)\n",
    "    Count_df['samplename'] = samplename\n",
    "    Count_df['threshold'] = '0.001'\n",
    "    Count_tmp = Count_tmp.append(Count_df)\n",
    "    \n",
    "    Occ_tmp_sample_fast = Occ_tmp_sample[Occ_tmp_sample['norm_Asite'] < threshold01_bottom]\n",
    "    Occ_tmp_sample_nonfast = Occ_tmp_sample[Occ_tmp_sample['norm_Asite'] > threshold01_bottom]\n",
    "    \n",
    "    fast_df = pd.DataFrame([Occ_tmp_sample_fast.groupby(['category'])['protein'].count(),Occ_tmp_sample_nonfast.groupby(['category'])['protein'].count()]).T\n",
    "    fast_df.columns = ['fast','nonfast']\n",
    "    fast_df = fast_df.reset_index()\n",
    "    fast_df['samplename'] = samplename\n",
    "    fast_tmp = fast_tmp.append(fast_df)"
   ]
  },
  {
   "cell_type": "code",
   "execution_count": 10,
   "metadata": {
    "collapsed": true
   },
   "outputs": [],
   "source": [
    "result_df = pd.DataFrame(columns = ['samplename','RR','pvalue'])\n",
    "for samplename in fast_tmp['samplename'].unique():\n",
    "    fast_df = fast_tmp[fast_tmp['samplename'] == samplename]\n",
    "    RR = (fast_df.iloc[0,1]/(fast_df.iloc[0,1]+fast_df.iloc[0,2]))/(fast_df.iloc[1,1]/(fast_df.iloc[1,1]+fast_df.iloc[1,2]))\n",
    "    pvalue = stats.chi2_contingency([[fast_df.iloc[0,1],fast_df.iloc[0,2]],[fast_df.iloc[1,1],fast_df.iloc[1,2]]])[1]\n",
    "#     print(RR,pvalue)\n",
    "    tmp_df = pd.DataFrame([samplename,RR,pvalue]).T\n",
    "    tmp_df.columns = ['samplename','RR','pvalue']\n",
    "    result_df = result_df.append(tmp_df)\n",
    "\n",
    "# sort by samples\n",
    "sampleList = ['em02h','em26h','em612h','em1224h','larva','pupa','malebody','femalebody','malehead','femalehead']\n",
    "result_df['samplename'] = result_df['samplename'].astype(\"category\").cat.set_categories(sampleList)\n",
    "result_df.sort_values(\"samplename\",inplace=True)"
   ]
  },
  {
   "cell_type": "code",
   "execution_count": 11,
   "metadata": {
    "collapsed": true
   },
   "outputs": [],
   "source": [
    "slow_df = Count_tmp.copy()\n",
    "slow_df.columns = ['category','slow','non_slow','samplename','threshold']\n",
    "\n",
    "result_df = pd.DataFrame(columns = ['samplename','Enrichment','pvalue'])\n",
    "for samplename in slow_df['samplename'].unique():\n",
    "    slow_tmp = slow_df[slow_df['samplename'] == samplename]\n",
    "    slow_tmp.sort_values(\"category\",inplace=True)\n",
    "    Enrich_nonoptimal = (slow_tmp.iloc[0,1]/(slow_tmp.iloc[0,1]+slow_tmp.iloc[1,1]))/(slow_tmp.iloc[0,2]/(slow_tmp.iloc[0,2]+slow_tmp.iloc[1,2]))\n",
    "    pvalue = stats.chi2_contingency([[slow_tmp.iloc[0,1],slow_tmp.iloc[0,2]],[slow_tmp.iloc[1,1],slow_tmp.iloc[1,2]]])[1]\n",
    "    \n",
    "    tmp_df = pd.DataFrame([samplename,Enrich_nonoptimal,pvalue]).T\n",
    "    tmp_df.columns = ['samplename','Enrichment','pvalue']\n",
    "    result_df = result_df.append(tmp_df)\n",
    "    \n",
    "result_slow = result_df.copy()"
   ]
  },
  {
   "cell_type": "code",
   "execution_count": 12,
   "metadata": {
    "collapsed": true
   },
   "outputs": [],
   "source": [
    "fast_df = fast_tmp.copy()\n",
    "fast_df.columns = ['category','fast','non_fast','samplename']\n",
    "\n",
    "result_df = pd.DataFrame(columns = ['samplename','Enrichment','pvalue'])\n",
    "for samplename in fast_df['samplename'].unique():\n",
    "    fast_tmp = fast_df[fast_df['samplename'] == samplename]\n",
    "    fast_tmp.sort_values(\"category\",inplace=True)\n",
    "    Enrich_optimal = (fast_tmp.iloc[1,1]/(fast_tmp.iloc[0,1]+fast_tmp.iloc[1,1]))/(fast_tmp.iloc[1,2]/(fast_tmp.iloc[0,2]+fast_tmp.iloc[1,2]))\n",
    "    pvalue = stats.chi2_contingency([[fast_tmp.iloc[0,1],fast_tmp.iloc[0,2]],[fast_tmp.iloc[1,1],fast_tmp.iloc[1,2]]])[1]\n",
    "    \n",
    "    tmp_df = pd.DataFrame([samplename,Enrich_optimal,pvalue]).T\n",
    "    tmp_df.columns = ['samplename','Enrichment','pvalue']\n",
    "    result_df = result_df.append(tmp_df)\n",
    "\n",
    "result_fast = result_df.copy()"
   ]
  },
  {
   "cell_type": "code",
   "execution_count": 13,
   "metadata": {
    "collapsed": true
   },
   "outputs": [],
   "source": [
    "# sort by samples\n",
    "sampleList = ['em02h','em26h','em612h','em1224h','larva','pupa','malebody','femalebody','malehead','femalehead']\n",
    "result_fast['samplename'] = result_fast['samplename'].astype(\"category\").cat.set_categories(sampleList)\n",
    "result_fast.sort_values(\"samplename\",inplace=True)\n",
    "\n",
    "result_slow['samplename'] = result_slow['samplename'].astype(\"category\").cat.set_categories(sampleList)\n",
    "result_slow.sort_values(\"samplename\",inplace=True)"
   ]
  },
  {
   "cell_type": "code",
   "execution_count": 14,
   "metadata": {},
   "outputs": [
    {
     "data": {
      "image/png": "[encoded data removed]",
      "text/plain": [
       "<Figure size 360x360 with 2 Axes>"
      ]
     },
     "metadata": {},
     "output_type": "display_data"
    }
   ],
   "source": [
    "plt.figure(figsize=(5,5))\n",
    "\n",
    "plt.subplot(2,1,1)\n",
    "sns.barplot(x='samplename',y='Enrichment',data=result_fast,color='steelblue',alpha=0.8)\n",
    "plt.title(\"Enrichment of optimal codons in fast codons\")\n",
    "plt.xticks(rotation=90)\n",
    "plt.ylim(0.85,1.30)\n",
    "plt.hlines(1,-0.4,9.4,color='gray',linestyles='dashed')\n",
    "plt.xlabel(\"\")\n",
    "\n",
    "plt.subplot(2,1,2)\n",
    "sns.barplot(x='samplename',y='Enrichment',data=result_slow,color='steelblue',alpha=0.8)\n",
    "plt.title(\"Enrichment of non-optimal codons in slow codons\")\n",
    "plt.xticks(rotation=90)\n",
    "plt.ylim(0.85,1.30)\n",
    "plt.hlines(1,-0.4,9.4,color='gray',linestyles='dashed')\n",
    "plt.xlabel(\"\")\n",
    "\n",
    "plt.tight_layout()"
   ]
  },
  {
   "cell_type": "code",
   "execution_count": null,
   "metadata": {
    "collapsed": true
   },
   "outputs": [],
   "source": []
  }
 ],
 "metadata": {
  "kernelspec": {
   "display_name": "Python 3",
   "language": "python",
   "name": "python3"
  },
  "language_info": {
   "codemirror_mode": {
    "name": "ipython",
    "version": 3
   },
   "file_extension": ".py",
   "mimetype": "text/x-python",
   "name": "python",
   "nbconvert_exporter": "python",
   "pygments_lexer": "ipython3",
   "version": "3.6.7"
  }
 },
 "nbformat": 4,
 "nbformat_minor": 2
}
