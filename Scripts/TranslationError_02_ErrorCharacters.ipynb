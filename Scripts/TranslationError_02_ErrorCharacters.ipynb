{
 "cells": [
  {
   "cell_type": "code",
   "execution_count": 1,
   "metadata": {},
   "outputs": [
    {
     "name": "stderr",
     "output_type": "stream",
     "text": [
      "\n",
      "Bad key \"text.kerning_factor\" on line 4 in\n",
      "/lustre/user/lulab/doushq/wuxk/software/anaconda3/lib/python3.6/site-packages/matplotlib/mpl-data/stylelib/_classic_test_patch.mplstyle.\n",
      "You probably need to get an updated matplotlibrc file from\n",
      "http://github.com/matplotlib/matplotlib/blob/master/matplotlibrc.template\n",
      "or from the matplotlib source distribution\n"
     ]
    }
   ],
   "source": [
    "import pandas as pd\n",
    "import numpy as np\n",
    "import re\n",
    "import os\n",
    "from itertools import groupby\n",
    "from operator import itemgetter\n",
    "import warnings\n",
    "import pickle\n",
    "from Bio import Seq\n",
    "from Bio import SeqIO\n",
    "import pysam\n",
    "import itertools\n",
    "import scipy\n",
    "from scipy import stats\n",
    "from scipy.interpolate import interp1d\n",
    "from scipy.stats import chi2_contingency\n",
    "import statsmodels.formula.api as smf\n",
    "\n",
    "import matplotlib.pyplot as plt\n",
    "import seaborn as sns\n",
    "%matplotlib inline\n",
    "\n",
    "import matplotlib as mpl\n",
    "mpl.rcParams['pdf.fonttype'] = 42\n",
    "warnings.filterwarnings(\"ignore\")"
   ]
  },
  {
   "cell_type": "code",
   "execution_count": 2,
   "metadata": {
    "collapsed": true
   },
   "outputs": [],
   "source": [
    "def hamming(s1,s2): return sum(a!=b for a,b in zip(s1,s2))  \n",
    "\n",
    "MW_dict = {\"G\": 57.02147, \n",
    "            \"A\" : 71.03712, \n",
    "            \"S\" : 87.03203, \n",
    "            \"P\" : 97.05277, \n",
    "            \"V\" : 99.06842, \n",
    "            \"T\" : 101.04768, \n",
    "            \"I\" : 113.08407, \n",
    "            \"L\" : 113.08407, \n",
    "            \"N\" : 114.04293, \n",
    "            \"D\" : 115.02695, \n",
    "            \"Q\" : 128.05858, \n",
    "            \"K\" : 128.09497, \n",
    "            \"E\" : 129.0426, \n",
    "            \"M\" : 131.04049, \n",
    "            \"H\" : 137.05891,\n",
    "            \"F\" : 147.06842, \n",
    "            \"R\" : 156.10112, \n",
    "            \"C\" : 160.030654, #CamCys\n",
    "            \"Y\" : 163.0633,\n",
    "            \"W\" : 186.07932,\n",
    "            }# Molecular mass of amino acid residues\n",
    "\n",
    "def get_inverted_codon_table():\n",
    "    ct = get_codon_table()\n",
    "    inv_codon_table = {}\n",
    "    for k, v in ct.items():\n",
    "        inv_codon_table[v] = inv_codon_table.get(v, [])\n",
    "        inv_codon_table[v].append(k)\n",
    "    return inv_codon_table\n",
    "\n",
    "def get_codon_table():\n",
    "    return dict(zip(codons, amino_acids))\n",
    "\n",
    "def prepare_count_matrix(df):\n",
    "\n",
    "    matrix = pd.DataFrame(data = 0, index = codons, columns=list('ACDEFGHKLMNPQRSTVWY'),dtype=float)\n",
    "    df = df[df['DP decoy']!='+']\n",
    "    df = df[pd.notnull(df['codon'])] # filter \n",
    "    df['codon'] = df['codon'].map(lambda x: x.replace('T','U'))\n",
    "    for label in matrix.index:\n",
    "        if codon_table[label] == '*':\n",
    "            matrix.loc[label] = float('NaN')\n",
    "        for col in matrix.columns:\n",
    "            if (label in inverted_codon_table[col]) or (codon_table[label] +' to '+col in exact_PTM_spec_list):\n",
    "                matrix.loc[label, col] = float('NaN')\n",
    "    subs_agg = pd.DataFrame(df.groupby(['protein','position','origin','destination','codon']).groups.keys(), columns=['protein','position','origin','destination','codon'])\n",
    "\n",
    "    for x, l in subs_agg.groupby(['codon', 'destination']).groups.items():\n",
    "        codon, destination = x\n",
    "        if (codon in matrix.index) and pd.notnull(matrix.loc[codon,destination]):\n",
    "            matrix.loc[codon,destination] = len(l)\n",
    "    matrix.rename(columns={\"L\": \"I/L\"},inplace=True)\n",
    "    return matrix\n",
    "    \n",
    "def probe_mismatch(codon1, codon2, pos, spec):\n",
    "    origin, destination = spec\n",
    "    for i in range(3):\n",
    "        if i == pos:\n",
    "            if codon1[i] != origin or codon2[i] != destination:\n",
    "                return False\n",
    "        else:\n",
    "            if codon1[i] != codon2[i]:\n",
    "                return False\n",
    "    return True\n",
    "\n",
    "bases = 'UCAG'\n",
    "codons = [a+b+c for a in bases for b in bases for c in bases]\n",
    "\n",
    "amino_acids = 'FFLLSSSSYY**CC*WLLLLPPPPHHQQRRRRIIIMTTTTNNKKSSRRVVVVAAAADDEEGGGG'\n",
    "RC = {'A':'U', 'C':'G', 'G':'C', 'U':'A'}\n",
    "\n",
    "codon_table = get_codon_table()\n",
    "inverted_codon_table = get_inverted_codon_table()\n",
    "inverted_codon_table['L'] = inverted_codon_table['L'] + inverted_codon_table['I']\n",
    "tol = 0.005\n",
    "\n",
    "aas_sorted_by_mass = [i[0] for i in sorted(MW_dict.items(),key=lambda x:x[1])]\n",
    "danger_mods = pd.read_pickle('danger_mods')\n",
    "exact_PTM_spec = pd.DataFrame(index = aas_sorted_by_mass,\n",
    "                              columns = aas_sorted_by_mass,\n",
    "                              dtype = int)\n",
    "\n",
    "for aa1 in MW_dict.keys():\n",
    "    for aa2 in MW_dict.keys():\n",
    "        delta_m = MW_dict[aa2] - MW_dict[aa1]\n",
    "        exact_PTM_spec.loc[aa1,aa2]=len(danger_mods[(danger_mods['delta_m']<delta_m + 0.0005) & (danger_mods['delta_m']>delta_m - 0.0005) & (danger_mods['site']==aa1)]) > 0\n",
    "\n",
    "exact_PTM_spec_list = [str(i) + ' to ' + str(j) for i in aas_sorted_by_mass for j in  aas_sorted_by_mass if exact_PTM_spec.loc[i,j]] \n",
    "\n",
    "mask = pd.DataFrame(data = False,\n",
    "                    index = codons,\n",
    "                    columns = list('ACDEFGHKLMNPQRSTVWY'),\n",
    "                    dtype = float)\n",
    "\n",
    "for label in codons:\n",
    "    near_cognates = np.array([hamming(i,label)==1 for i in codons])\n",
    "    reachable_aa = set(np.array(list(amino_acids))[near_cognates])\n",
    "    mask.loc[label] =[i in reachable_aa for i in 'ACDEFGHKLMNPQRSTVWY']\n",
    "    \n",
    "for label in mask.index:\n",
    "    if codon_table[label] == '*':\n",
    "        mask.loc[label]=float('NaN')\n",
    "    for col in mask.columns:\n",
    "        if (label in inverted_codon_table[col]) or (codon_table[label] +' to '+col in exact_PTM_spec_list):\n",
    "            mask.loc[label, col] = float('NaN')"
   ]
  },
  {
   "cell_type": "code",
   "execution_count": 3,
   "metadata": {},
   "outputs": [
    {
     "name": "stdout",
     "output_type": "stream",
     "text": [
      "Ratio of NeMismatchs under the random situation:\n",
      "0.30893536121673004\n"
     ]
    }
   ],
   "source": [
    "data = pd.read_csv(\"../Results/data.csv\",sep=\"\\t\",index_col = 0)\n",
    "\n",
    "# interate each substition and calculate their harming distance\n",
    "inverted_codon_table = get_inverted_codon_table()\n",
    "inverted_codon_table['I/L'] = inverted_codon_table['I'] + inverted_codon_table['L']\n",
    "\n",
    "data_tmp = data.copy()\n",
    "data_tmp[~np.isnan(data_tmp)] = 1 # random situation\n",
    "\n",
    "NeMismatch = []\n",
    "Nesite = []\n",
    "basesFromTo = []\n",
    "\n",
    "for index,row in data_tmp.iterrows():\n",
    "    for aa in data_tmp.columns:\n",
    "        if (row[aa] == 0)|np.isnan(row[aa]):\n",
    "            pass\n",
    "        else:\n",
    "            original_codon = index\n",
    "            destination_codons = inverted_codon_table[aa]\n",
    "            \n",
    "            pairedCount = 0\n",
    "            for destination_codon in destination_codons:\n",
    "                distance = hamming(original_codon,destination_codon) # hamming distance\n",
    "                if distance == 1:\n",
    "                    pairedCount += 1\n",
    "                    site = [i for i in range(len(original_codon)) if original_codon[i] != destination_codon[i]][0] \n",
    "                    Nesite.append(site)\n",
    "                    basesFromTo.append(original_codon[site] + destination_codon[site])\n",
    "            if pairedCount > 0:\n",
    "                for i in range(pairedCount):\n",
    "                    NeMismatch.append(row[aa]/pairedCount) \n",
    "\n",
    "# \n",
    "print(\"Ratio of NeMismatchs under the random situation:\")\n",
    "print(sum(NeMismatch)/data_tmp.sum().sum())"
   ]
  },
  {
   "cell_type": "code",
   "execution_count": 4,
   "metadata": {},
   "outputs": [
    {
     "name": "stdout",
     "output_type": "stream",
     "text": [
      "0.09757399320718098\n",
      "0.1222707423580786\n",
      "0.016690926734594852\n"
     ]
    }
   ],
   "source": [
    "Neinfo_df = pd.DataFrame([NeMismatch,Nesite,basesFromTo]).T\n",
    "Neinfo_df.columns = ['NeMismatch','Nesite','basesFromTo']\n",
    "Neinfo_df['From'] = Neinfo_df['basesFromTo'].apply(lambda x: list(x)[0])\n",
    "Neinfo_df['To'] = Neinfo_df['basesFromTo'].apply(lambda x: list(x)[1])\n",
    "\n",
    "# Ratio of each site in the ribosome\n",
    "print(Neinfo_df[Neinfo_df['Nesite'] == 0]['NeMismatch'].sum()/data.sum().sum())\n",
    "print(Neinfo_df[Neinfo_df['Nesite'] == 1]['NeMismatch'].sum()/data.sum().sum())\n",
    "print(Neinfo_df[Neinfo_df['Nesite'] == 2]['NeMismatch'].sum()/data.sum().sum())"
   ]
  },
  {
   "cell_type": "code",
   "execution_count": 5,
   "metadata": {},
   "outputs": [
    {
     "name": "stdout",
     "output_type": "stream",
     "text": [
      "Ratio of NeMismatchs under the random situation:\n",
      "0.3184747744893489\n"
     ]
    }
   ],
   "source": [
    "### adjusted using codon usage information\n",
    "\n",
    "with open(\"../Data/fly_codonUsage.pkl\", \"rb\") as handle:\n",
    "    CodonUsage_dict = pickle.load(handle)\n",
    "    \n",
    "data_usage = data.copy()\n",
    "\n",
    "for codon in data_usage.index:\n",
    "    codon_T = codon.replace('U','T')\n",
    "    data_usage.loc[codon, ~data_usage.loc[codon].isna()] = CodonUsage_dict[codon_T]\n",
    "    \n",
    "NeMismatch = []\n",
    "Nesite = []\n",
    "basesFromTo = []\n",
    "\n",
    "for index,row in data_usage.iterrows():\n",
    "    for aa in data_usage.columns:\n",
    "        if (row[aa] == 0)|np.isnan(row[aa]):\n",
    "            pass\n",
    "        else:\n",
    "            original_codon = index\n",
    "            destination_codons = inverted_codon_table[aa]\n",
    "            \n",
    "            pairedCount = 0\n",
    "            for destination_codon in destination_codons:\n",
    "                distance = hamming(original_codon,destination_codon) # hamming distance\n",
    "                if distance == 1:\n",
    "                    pairedCount += 1\n",
    "                    site = [i for i in range(len(original_codon)) if original_codon[i] != destination_codon[i]][0] \n",
    "                    Nesite.append(site)\n",
    "                    basesFromTo.append(original_codon[site] + destination_codon[site])\n",
    "            if pairedCount > 0:\n",
    "                for i in range(pairedCount):\n",
    "                    NeMismatch.append(row[aa]/pairedCount) \n",
    "\n",
    "# \n",
    "print(\"Ratio of NeMismatchs under the random situation:\")\n",
    "print(sum(NeMismatch)/data_usage.sum().sum())"
   ]
  },
  {
   "cell_type": "code",
   "execution_count": 6,
   "metadata": {},
   "outputs": [
    {
     "name": "stdout",
     "output_type": "stream",
     "text": [
      "0.1310067154590945\n",
      "0.16422350755271023\n",
      "0.023244551477544163\n"
     ]
    }
   ],
   "source": [
    "Neinfo_df = pd.DataFrame([NeMismatch,Nesite,basesFromTo]).T\n",
    "Neinfo_df.columns = ['NeMismatch','Nesite','basesFromTo']\n",
    "Neinfo_df['From'] = Neinfo_df['basesFromTo'].apply(lambda x: list(x)[0])\n",
    "Neinfo_df['To'] = Neinfo_df['basesFromTo'].apply(lambda x: list(x)[1])\n",
    "\n",
    "# Ratio of each site in the ribosome\n",
    "print(Neinfo_df[Neinfo_df['Nesite'] == 0]['NeMismatch'].sum()/data_usage.sum().sum())\n",
    "print(Neinfo_df[Neinfo_df['Nesite'] == 1]['NeMismatch'].sum()/data_usage.sum().sum())\n",
    "print(Neinfo_df[Neinfo_df['Nesite'] == 2]['NeMismatch'].sum()/data_usage.sum().sum())"
   ]
  },
  {
   "cell_type": "code",
   "execution_count": 7,
   "metadata": {
    "collapsed": true
   },
   "outputs": [],
   "source": [
    "NeMismatch = []\n",
    "Nesite = []\n",
    "basesFromTo = []\n",
    "\n",
    "for index,row in data.iterrows():\n",
    "    for aa in data.columns:\n",
    "        if (row[aa] == 0)|np.isnan(row[aa]):\n",
    "            pass\n",
    "        else:\n",
    "            original_codon = index\n",
    "            destination_codons = inverted_codon_table[aa]\n",
    "            \n",
    "            pairedCount = 0\n",
    "            for destination_codon in destination_codons:\n",
    "                distance = hamming(original_codon,destination_codon)\n",
    "                if distance == 1:\n",
    "                    pairedCount += 1\n",
    "                    site = [i for i in range(len(original_codon)) if original_codon[i] != destination_codon[i]][0] \n",
    "                    Nesite.append(site)\n",
    "                    basesFromTo.append(original_codon[site] + destination_codon[site])\n",
    "            if pairedCount > 0:\n",
    "                for i in range(pairedCount):\n",
    "                    NeMismatch.append(row[aa]/pairedCount) \n",
    "                    \n",
    "Neinfo_df = pd.DataFrame([NeMismatch,Nesite,basesFromTo]).T\n",
    "Neinfo_df.columns = ['NeMismatch','Nesite','basesFromTo']\n",
    "Neinfo_df['From'] = Neinfo_df['basesFromTo'].apply(lambda x: list(x)[0])\n",
    "Neinfo_df['To'] = Neinfo_df['basesFromTo'].apply(lambda x: list(x)[1])"
   ]
  },
  {
   "cell_type": "code",
   "execution_count": 8,
   "metadata": {
    "collapsed": true
   },
   "outputs": [],
   "source": [
    "#### seperate data of different replicates under different condition\n",
    "def mimatchCount_new(data):\n",
    "    \"\"\"input subs dataframe, output observed mismatch rate\n",
    "    \"\"\"\n",
    "    data = data.copy()\n",
    "\n",
    "    NeMismatch = []\n",
    "    Nesite = []\n",
    "    basesFromTo = []\n",
    "\n",
    "    for index,row in data.iterrows():\n",
    "        for aa in data.columns:\n",
    "            if (row[aa] == 0)|np.isnan(row[aa]):\n",
    "                pass\n",
    "            else:\n",
    "                original_codon = index\n",
    "                destination_codons = inverted_codon_table[aa]\n",
    "\n",
    "                pairedCount = 0\n",
    "                for destination_codon in destination_codons:\n",
    "                    distance = hamming(original_codon,destination_codon)\n",
    "                    if distance == 1:\n",
    "                        pairedCount += 1\n",
    "                        site = [i for i in range(len(original_codon)) if original_codon[i] != destination_codon[i]][0] \n",
    "                        Nesite.append(site)\n",
    "                        basesFromTo.append(original_codon[site] + destination_codon[site])\n",
    "                if pairedCount > 0:\n",
    "                    for i in range(pairedCount):\n",
    "                        NeMismatch.append(row[aa]/pairedCount) \n",
    "    \n",
    "    Neinfo_df = pd.DataFrame([NeMismatch,Nesite,basesFromTo]).T\n",
    "    Neinfo_df.columns = ['NeMismatch','Nesite','basesFromTo']\n",
    "    Neinfo_df['From'] = Neinfo_df['basesFromTo'].apply(lambda x: list(x)[0])\n",
    "    Neinfo_df['To'] = Neinfo_df['basesFromTo'].apply(lambda x: list(x)[1])\n",
    "\n",
    "    base0Ratio = (Neinfo_df[Neinfo_df['Nesite'] == 0]['NeMismatch'].sum()/data.sum().sum())\n",
    "    base1Ratio = (Neinfo_df[Neinfo_df['Nesite'] == 1]['NeMismatch'].sum()/data.sum().sum())\n",
    "    base2Ratio = (Neinfo_df[Neinfo_df['Nesite'] == 2]['NeMismatch'].sum()/data.sum().sum())\n",
    "    \n",
    "    return(base0Ratio,base1Ratio,base2Ratio,Neinfo_df)"
   ]
  },
  {
   "cell_type": "code",
   "execution_count": 9,
   "metadata": {},
   "outputs": [
    {
     "name": "stdout",
     "output_type": "stream",
     "text": [
      "0.3312227074235808 0.20087336244541484 0.04141193595342067\n"
     ]
    }
   ],
   "source": [
    "# all sites\n",
    "base0Ratio,base1Ratio,base2Ratio,tmp_df = mimatchCount_new(data)\n",
    "print(base0Ratio,base1Ratio,base2Ratio)"
   ]
  },
  {
   "cell_type": "code",
   "execution_count": 10,
   "metadata": {},
   "outputs": [
    {
     "data": {
      "text/plain": [
       "1374.0"
      ]
     },
     "execution_count": 10,
     "metadata": {},
     "output_type": "execute_result"
    }
   ],
   "source": [
    "data.sum().sum()"
   ]
  },
  {
   "cell_type": "code",
   "execution_count": 11,
   "metadata": {},
   "outputs": [
    {
     "name": "stdout",
     "output_type": "stream",
     "text": [
      "455.1\n",
      "276.0\n",
      "56.900000000000006\n"
     ]
    }
   ],
   "source": [
    "print(1374*base0Ratio)\n",
    "print(1374*base1Ratio)\n",
    "print(1374*base2Ratio)"
   ]
  },
  {
   "cell_type": "code",
   "execution_count": 12,
   "metadata": {},
   "outputs": [
    {
     "name": "stdout",
     "output_type": "stream",
     "text": [
      "180.00322704079585\n",
      "225.64309937742385\n",
      "31.93801373014568\n"
     ]
    }
   ],
   "source": [
    "print(0.1310067154590945*1374)\n",
    "print(0.16422350755271023*1374)\n",
    "print(0.023244551477544163*1374)"
   ]
  },
  {
   "cell_type": "code",
   "execution_count": 13,
   "metadata": {},
   "outputs": [
    {
     "data": {
      "image/png": "[encoded data removed]",
      "text/plain": [
       "<Figure size 252x180 with 1 Axes>"
      ]
     },
     "metadata": {},
     "output_type": "display_data"
    }
   ],
   "source": [
    "### Normalized by NeCE counts\n",
    "tmp_result = pd.DataFrame([[455.1,276.0,56.9],[180.00322704079585,225.64309937742385,31.93801373014568]]).T\n",
    "\n",
    "def divide_by_column_sum(x):\n",
    "    if isinstance(x, str):\n",
    "        if x.strip() == \"\":\n",
    "            return x\n",
    "    return x / tmp_result[x.name].sum()\n",
    "\n",
    "\n",
    "df = tmp_result.apply(divide_by_column_sum)\n",
    "\n",
    "tmp_result = df*788\n",
    "\n",
    "tmp_result.columns = ['Observed','Expected']\n",
    "tmp_result['location'] = ['codon_1st','codon_2nd','codon_3rd']\n",
    "tmp_result.sort_values(\"location\",inplace=True)\n",
    "tmp_melt = tmp_result.melt(id_vars='location')\n",
    "tmp_melt.columns = ['location','type','count']\n",
    "\n",
    "plt.figure(figsize=(3.5,2.5))\n",
    "sns.barplot(x='location',y='count',hue='type',data=tmp_melt)\n",
    "plt.legend(fontsize=8)\n",
    "plt.xlabel(\"\")\n",
    "plt.ylabel(\"Number of mismatches\")\n",
    "plt.tight_layout()"
   ]
  },
  {
   "cell_type": "code",
   "execution_count": null,
   "metadata": {
    "collapsed": true
   },
   "outputs": [],
   "source": []
  }
 ],
 "metadata": {
  "kernelspec": {
   "display_name": "Python 3",
   "language": "python",
   "name": "python3"
  },
  "language_info": {
   "codemirror_mode": {
    "name": "ipython",
    "version": 3
   },
   "file_extension": ".py",
   "mimetype": "text/x-python",
   "name": "python",
   "nbconvert_exporter": "python",
   "pygments_lexer": "ipython3",
   "version": "3.6.7"
  }
 },
 "nbformat": 4,
 "nbformat_minor": 2
}
