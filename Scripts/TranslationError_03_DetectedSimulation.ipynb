{
 "cells": [
  {
   "cell_type": "code",
   "execution_count": 1,
   "metadata": {},
   "outputs": [
    {
     "name": "stderr",
     "output_type": "stream",
     "text": [
      "\n",
      "Bad key \"text.kerning_factor\" on line 4 in\n",
      "/lustre/user/lulab/doushq/wuxk/software/anaconda3/lib/python3.6/site-packages/matplotlib/mpl-data/stylelib/_classic_test_patch.mplstyle.\n",
      "You probably need to get an updated matplotlibrc file from\n",
      "http://github.com/matplotlib/matplotlib/blob/master/matplotlibrc.template\n",
      "or from the matplotlib source distribution\n"
     ]
    }
   ],
   "source": [
    "import pandas as pd\n",
    "import numpy as np\n",
    "import random\n",
    "import pickle\n",
    "import matplotlib.pyplot as plt\n",
    "import seaborn as sns\n",
    "from scipy import stats\n",
    "import copy\n",
    "import os\n",
    "%matplotlib inline\n",
    "\n",
    "import matplotlib as mpl\n",
    "mpl.rcParams['pdf.fonttype'] = 42"
   ]
  },
  {
   "cell_type": "code",
   "execution_count": 2,
   "metadata": {},
   "outputs": [
    {
     "data": {
      "text/html": [
       "<div>\n",
       "<style scoped>\n",
       "    .dataframe tbody tr th:only-of-type {\n",
       "        vertical-align: middle;\n",
       "    }\n",
       "\n",
       "    .dataframe tbody tr th {\n",
       "        vertical-align: top;\n",
       "    }\n",
       "\n",
       "    .dataframe thead th {\n",
       "        text-align: right;\n",
       "    }\n",
       "</style>\n",
       "<table border=\"1\" class=\"dataframe\">\n",
       "  <thead>\n",
       "    <tr style=\"text-align: right;\">\n",
       "      <th></th>\n",
       "      <th>Intensity 0_2h_1</th>\n",
       "      <th>Intensity 0_2h_2</th>\n",
       "      <th>Intensity 0_2h_3</th>\n",
       "      <th>Intensity 0_2h_4</th>\n",
       "      <th>Intensity 10_12h_1</th>\n",
       "      <th>Intensity 10_12h_2</th>\n",
       "      <th>Intensity 10_12h_3</th>\n",
       "      <th>Intensity 10_12h_4</th>\n",
       "      <th>Intensity 18_20h_1</th>\n",
       "      <th>Intensity 18_20h_2</th>\n",
       "      <th>...</th>\n",
       "      <th>Intensity p5_3</th>\n",
       "      <th>Intensity p5_4</th>\n",
       "      <th>Intensity vf_female_1</th>\n",
       "      <th>Intensity vf_female_2</th>\n",
       "      <th>Intensity vf_female_3</th>\n",
       "      <th>Intensity vf_female_4</th>\n",
       "      <th>Intensity vf_male_1</th>\n",
       "      <th>Intensity vf_male_2</th>\n",
       "      <th>Intensity vf_male_3</th>\n",
       "      <th>Intensity vf_male_4</th>\n",
       "    </tr>\n",
       "  </thead>\n",
       "  <tbody>\n",
       "    <tr>\n",
       "      <th>TTT</th>\n",
       "      <td>0.000949</td>\n",
       "      <td>0.000000</td>\n",
       "      <td>0.002160</td>\n",
       "      <td>0.000000</td>\n",
       "      <td>0.001580</td>\n",
       "      <td>0.000060</td>\n",
       "      <td>0.000043</td>\n",
       "      <td>0.000064</td>\n",
       "      <td>0.000009</td>\n",
       "      <td>0.000049</td>\n",
       "      <td>...</td>\n",
       "      <td>0.000038</td>\n",
       "      <td>0.000044</td>\n",
       "      <td>0.000008</td>\n",
       "      <td>0.000008</td>\n",
       "      <td>0.000014</td>\n",
       "      <td>0.000050</td>\n",
       "      <td>0.0</td>\n",
       "      <td>0.000012</td>\n",
       "      <td>0.000018</td>\n",
       "      <td>0.000017</td>\n",
       "    </tr>\n",
       "    <tr>\n",
       "      <th>TTC</th>\n",
       "      <td>0.000025</td>\n",
       "      <td>0.000009</td>\n",
       "      <td>0.000107</td>\n",
       "      <td>0.000155</td>\n",
       "      <td>0.000077</td>\n",
       "      <td>0.000014</td>\n",
       "      <td>0.000043</td>\n",
       "      <td>0.000011</td>\n",
       "      <td>0.000086</td>\n",
       "      <td>0.000005</td>\n",
       "      <td>...</td>\n",
       "      <td>0.000005</td>\n",
       "      <td>0.000206</td>\n",
       "      <td>0.000077</td>\n",
       "      <td>0.000000</td>\n",
       "      <td>0.000007</td>\n",
       "      <td>0.000002</td>\n",
       "      <td>0.0</td>\n",
       "      <td>0.000017</td>\n",
       "      <td>0.000000</td>\n",
       "      <td>0.000009</td>\n",
       "    </tr>\n",
       "  </tbody>\n",
       "</table>\n",
       "<p>2 rows × 68 columns</p>\n",
       "</div>"
      ],
      "text/plain": [
       "     Intensity 0_2h_1  Intensity 0_2h_2  Intensity 0_2h_3  Intensity 0_2h_4  \\\n",
       "TTT          0.000949          0.000000          0.002160          0.000000   \n",
       "TTC          0.000025          0.000009          0.000107          0.000155   \n",
       "\n",
       "     Intensity 10_12h_1  Intensity 10_12h_2  Intensity 10_12h_3  \\\n",
       "TTT            0.001580            0.000060            0.000043   \n",
       "TTC            0.000077            0.000014            0.000043   \n",
       "\n",
       "     Intensity 10_12h_4  Intensity 18_20h_1  Intensity 18_20h_2  ...  \\\n",
       "TTT            0.000064            0.000009            0.000049  ...   \n",
       "TTC            0.000011            0.000086            0.000005  ...   \n",
       "\n",
       "     Intensity p5_3  Intensity p5_4  Intensity vf_female_1  \\\n",
       "TTT        0.000038        0.000044               0.000008   \n",
       "TTC        0.000005        0.000206               0.000077   \n",
       "\n",
       "     Intensity vf_female_2  Intensity vf_female_3  Intensity vf_female_4  \\\n",
       "TTT               0.000008               0.000014               0.000050   \n",
       "TTC               0.000000               0.000007               0.000002   \n",
       "\n",
       "     Intensity vf_male_1  Intensity vf_male_2  Intensity vf_male_3  \\\n",
       "TTT                  0.0             0.000012             0.000018   \n",
       "TTC                  0.0             0.000017             0.000000   \n",
       "\n",
       "     Intensity vf_male_4  \n",
       "TTT             0.000017  \n",
       "TTC             0.000009  \n",
       "\n",
       "[2 rows x 68 columns]"
      ]
     },
     "execution_count": 2,
     "metadata": {},
     "output_type": "execute_result"
    }
   ],
   "source": [
    "ErrorRate_df = pd.read_csv(\"../Results/ErrorRate_tmp.csv\",index_col=0)\n",
    "\n",
    "### optimal and nonoptimal codon detection\n",
    "codon_index_df = pd.read_csv(\"../Data/CodonIndex_Flybase.csv\",sep=\"\\t\")\n",
    "codon_index_df.rename(columns={codon_index_df.columns[0]: 'codon'}, inplace=True)\n",
    "\n",
    "tmp_df = ErrorRate_df.copy()\n",
    "tmp_df.head(2)"
   ]
  },
  {
   "cell_type": "code",
   "execution_count": 3,
   "metadata": {
    "collapsed": true
   },
   "outputs": [],
   "source": [
    "samplename = 'Intensity 0_2h_1'\n",
    "test_df = tmp_df[[samplename]].reset_index()\n",
    "test_df.columns = ['codon','errorRate']\n",
    "test_index_df = pd.merge(test_df,codon_index_df,on='codon')\n",
    "\n",
    "#\n",
    "optimal_count = test_index_df['category'].value_counts()['optimal']\n",
    "nonoptimal_count = test_index_df['category'].value_counts()['nonoptimal']\n",
    "test_index_nonZero = test_index_df[test_index_df['errorRate']>0]\n",
    "optimalNon_count = test_index_nonZero['category'].value_counts()['optimal']\n",
    "nonoptimalNon_count = test_index_nonZero['category'].value_counts()['nonoptimal']\n",
    "optimalNon_Ratio = optimalNon_count/optimal_count\n",
    "nonoptimalNon_Ratio = nonoptimalNon_count/nonoptimal_count\n",
    "\n",
    "removed_codons = ['ATG','TGG']\n",
    "codon_index_df = codon_index_df[~codon_index_df['codon'].isin(removed_codons)]"
   ]
  },
  {
   "cell_type": "code",
   "execution_count": 4,
   "metadata": {
    "collapsed": true
   },
   "outputs": [],
   "source": [
    "samplename_list = []\n",
    "optimalNon_Ratio_list = []\n",
    "nonoptimalNon_Ratio_list = []\n",
    "\n",
    "for samplename in tmp_df.columns:\n",
    "    test_df = tmp_df[[samplename]].reset_index()\n",
    "    test_df.columns = ['codon','errorRate']\n",
    "    test_index_df = pd.merge(test_df,codon_index_df,on='codon')\n",
    "\n",
    "    # 统计optimal和nonoptimal中非0的比例\n",
    "    optimal_count = test_index_df['category'].value_counts()['optimal']\n",
    "    nonoptimal_count = test_index_df['category'].value_counts()['nonoptimal']\n",
    "    test_index_nonZero = test_index_df[test_index_df['errorRate']>0]\n",
    "    optimalNon_count = test_index_nonZero['category'].value_counts()['optimal']\n",
    "    nonoptimalNon_count = test_index_nonZero['category'].value_counts()['nonoptimal']\n",
    "    optimalNon_Ratio = optimalNon_count/optimal_count\n",
    "    nonoptimalNon_Ratio = nonoptimalNon_count/nonoptimal_count\n",
    "    \n",
    "    samplename_list.append(samplename)\n",
    "    optimalNon_Ratio_list.append(optimalNon_Ratio)\n",
    "    nonoptimalNon_Ratio_list.append(nonoptimalNon_Ratio)"
   ]
  },
  {
   "cell_type": "code",
   "execution_count": 5,
   "metadata": {},
   "outputs": [
    {
     "data": {
      "text/html": [
       "<div>\n",
       "<style scoped>\n",
       "    .dataframe tbody tr th:only-of-type {\n",
       "        vertical-align: middle;\n",
       "    }\n",
       "\n",
       "    .dataframe tbody tr th {\n",
       "        vertical-align: top;\n",
       "    }\n",
       "\n",
       "    .dataframe thead th {\n",
       "        text-align: right;\n",
       "    }\n",
       "</style>\n",
       "<table border=\"1\" class=\"dataframe\">\n",
       "  <thead>\n",
       "    <tr style=\"text-align: right;\">\n",
       "      <th></th>\n",
       "      <th>samplename</th>\n",
       "      <th>optimal_ratio</th>\n",
       "      <th>nonptimal_ratio</th>\n",
       "    </tr>\n",
       "  </thead>\n",
       "  <tbody>\n",
       "    <tr>\n",
       "      <th>0</th>\n",
       "      <td>Intensity 0_2h_1</td>\n",
       "      <td>0.869565</td>\n",
       "      <td>0.722222</td>\n",
       "    </tr>\n",
       "    <tr>\n",
       "      <th>1</th>\n",
       "      <td>Intensity 0_2h_2</td>\n",
       "      <td>0.869565</td>\n",
       "      <td>0.416667</td>\n",
       "    </tr>\n",
       "  </tbody>\n",
       "</table>\n",
       "</div>"
      ],
      "text/plain": [
       "         samplename optimal_ratio nonptimal_ratio\n",
       "0  Intensity 0_2h_1      0.869565        0.722222\n",
       "1  Intensity 0_2h_2      0.869565        0.416667"
      ]
     },
     "execution_count": 5,
     "metadata": {},
     "output_type": "execute_result"
    }
   ],
   "source": [
    "result_df = pd.DataFrame([samplename_list,optimalNon_Ratio_list,nonoptimalNon_Ratio_list]).T\n",
    "result_df.columns = ['samplename','optimal_ratio','nonptimal_ratio']\n",
    "result_df.head(2)"
   ]
  },
  {
   "cell_type": "code",
   "execution_count": 6,
   "metadata": {},
   "outputs": [
    {
     "data": {
      "text/plain": [
       "WilcoxonResult(statistic=2343.0, pvalue=4.3368508450108434e-13)"
      ]
     },
     "execution_count": 6,
     "metadata": {},
     "output_type": "execute_result"
    }
   ],
   "source": [
    "stats.wilcoxon(result_df['optimal_ratio'],result_df['nonptimal_ratio'],alternative='greater')"
   ]
  },
  {
   "cell_type": "code",
   "execution_count": 7,
   "metadata": {
    "collapsed": true
   },
   "outputs": [],
   "source": [
    "result_melt = pd.melt(result_df,id_vars='samplename',value_vars=['optimal_ratio','nonptimal_ratio'])\n",
    "result_melt.columns = ['samplename','type','ratio']\n"
   ]
  },
  {
   "cell_type": "code",
   "execution_count": 8,
   "metadata": {},
   "outputs": [
    {
     "data": {
      "image/png": "[encoded data removed]",
      "text/plain": [
       "<Figure size 216x216 with 1 Axes>"
      ]
     },
     "metadata": {},
     "output_type": "display_data"
    }
   ],
   "source": [
    "gray_colors = [(0.5, 0.5, 0.5)] * 68\n",
    "\n",
    "gray_palette = sns.color_palette(gray_colors)\n",
    "\n",
    "plt.figure(figsize=(3,3))\n",
    "sns.boxplot(x='type',y='ratio',data=result_melt,showfliers=False,palette='Set1')\n",
    "sns.stripplot(x=\"type\", y=\"ratio\", data=result_melt, color=\"gray\",alpha=0.5)\n",
    "sns.lineplot(x='type',y='ratio',hue='samplename',data=result_melt,palette=gray_palette,alpha=0.4)\n",
    "plt.xticks([0,1],['Optimal','Nonoptimal'])\n",
    "plt.ylabel(\"Fraction of codons detected\")\n",
    "plt.ylim(0.28,1.2)\n",
    "plt.xlabel(\"\")\n",
    "plt.text(0.1,1.1,\"P = 4.3e-13\")\n",
    "plt.legend().remove()"
   ]
  },
  {
   "cell_type": "markdown",
   "metadata": {},
   "source": [
    "### Detection Simulation"
   ]
  },
  {
   "cell_type": "code",
   "execution_count": 9,
   "metadata": {},
   "outputs": [
    {
     "data": {
      "text/plain": [
       "' R Script\\ngt <- function(x) {return(sum(x > 0))}\\n\\nexp <- read.table(\"CodonIndex_Flybase_202212.csv\", header=T)\\nexp$codon <- as.character(rownames(exp))\\nexp -> exp2\\n\\nfor(cov in seq(5*10^4, 5*10^6, 5*10^4)){\\n\\nexp2$expected <- cov/sum(exp2$CodonUsage) * exp2$CodonUsage * 2.37 * 10^(-4)\\n\\nexp2[,c(6:205)] <- 0\\nfor(i in 1:nrow(exp2)){\\nexp2[i,c(6:205)] <- rpois(200, exp2$expected[i])}\\n\\nas.numeric(apply(exp2[,c(6:205)], 2, gt)) -> ab\\ncat(cov, quantile(ab, 0.5), quantile(ab, 0.025), quantile(ab, 0.975), \"\\n\")\\n}\\n'"
      ]
     },
     "execution_count": 9,
     "metadata": {},
     "output_type": "execute_result"
    }
   ],
   "source": [
    "\"\"\" R Script\n",
    "gt <- function(x) {return(sum(x > 0))}\n",
    "\n",
    "exp <- read.table(\"CodonIndex_Flybase_202212.csv\", header=T)\n",
    "exp$codon <- as.character(rownames(exp))\n",
    "exp -> exp2\n",
    "\n",
    "for(cov in seq(5*10^4, 5*10^6, 5*10^4)){\n",
    "\n",
    "exp2$expected <- cov/sum(exp2$CodonUsage) * exp2$CodonUsage * 2.37 * 10^(-4)\n",
    "\n",
    "exp2[,c(6:205)] <- 0\n",
    "for(i in 1:nrow(exp2)){\n",
    "exp2[i,c(6:205)] <- rpois(200, exp2$expected[i])}\n",
    "\n",
    "as.numeric(apply(exp2[,c(6:205)], 2, gt)) -> ab\n",
    "cat(cov, quantile(ab, 0.5), quantile(ab, 0.025), quantile(ab, 0.975), \"\\n\")\n",
    "}\n",
    "\"\"\" #Save the Result into ../Results/Simulation_tmp.txt\n"
   ]
  },
  {
   "cell_type": "code",
   "execution_count": 10,
   "metadata": {},
   "outputs": [
    {
     "data": {
      "image/png": "[encoded data removed]",
      "text/plain": [
       "<Figure size 288x216 with 1 Axes>"
      ]
     },
     "metadata": {},
     "output_type": "display_data"
    }
   ],
   "source": [
    "simResult_df = pd.read_csv(\"../Results/Simulation_tmp.txt\",header=None,sep=' ')\n",
    "simResult_df.columns = ['Cov','median','lower','upper','No']\n",
    "del simResult_df['No']\n",
    "simResult_melt = pd.melt(simResult_df,id_vars=['Cov'])\n",
    "simResult_melt.columns = ['Cov','type','codons']\n",
    "\n",
    "plt.figure(figsize=(4,3))\n",
    "sns.lineplot(x='Cov',y='codons',hue='type',data=simResult_melt)\n",
    "plt.xlim(0,3000000)\n",
    "plt.legend().remove()\n",
    "plt.tight_layout()"
   ]
  },
  {
   "cell_type": "code",
   "execution_count": null,
   "metadata": {
    "collapsed": true
   },
   "outputs": [],
   "source": []
  }
 ],
 "metadata": {
  "kernelspec": {
   "display_name": "Python 3",
   "language": "python",
   "name": "python3"
  },
  "language_info": {
   "codemirror_mode": {
    "name": "ipython",
    "version": 3
   },
   "file_extension": ".py",
   "mimetype": "text/x-python",
   "name": "python",
   "nbconvert_exporter": "python",
   "pygments_lexer": "ipython3",
   "version": "3.6.7"
  }
 },
 "nbformat": 4,
 "nbformat_minor": 2
}
